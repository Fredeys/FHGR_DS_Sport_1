{
 "cells": [
  {
   "cell_type": "code",
   "execution_count": 58,
   "metadata": {},
   "outputs": [],
   "source": [
    "import pandas as pd\n",
    "\n",
    "df_activity = pd.read_csv(\"activity_clean.csv\")\n",
    "df_training = pd.read_csv(\"training_clean.csv\")\n",
    "df_247      = pd.read_csv(\"df_247_clean.csv\")\n"
   ]
  },
  {
   "cell_type": "code",
   "execution_count": 60,
   "metadata": {},
   "outputs": [],
   "source": [
    "# print(df_activity.columns)\n",
    "# print(df_activity.head())"
   ]
  },
  {
   "cell_type": "code",
   "execution_count": 52,
   "metadata": {},
   "outputs": [],
   "source": [
    "df_activity['maximumHeartRate'].value_counts()\n",
    "df_activity.drop('maximumHeartRate', axis=1, inplace=True)\n",
    "\n",
    "df_activity['NO_DATA'].value_counts()\n",
    "df_activity.drop('NO_DATA', axis=1, inplace=True)\n",
    "\n",
    "df_activity['sleepDuration_sec'].value_counts()\n",
    "df_activity.drop('sleepDuration_sec', axis=1, inplace=True)\n",
    "\n",
    "df_activity['inactivityAlertCount'].value_counts()\n",
    "df_activity.drop('inactivityAlertCount', axis=1, inplace=True)\n"
   ]
  },
  {
   "cell_type": "code",
   "execution_count": 57,
   "metadata": {},
   "outputs": [
    {
     "name": "stdout",
     "output_type": "stream",
     "text": [
      "Index(['date', 'stepCount', 'stepsDistance', 'calories', 'sleepQuality',\n",
      "       'sleepDuration', 'dailyMetMinutes', 'SLEEP', 'SEDENTARY', 'LIGHT',\n",
      "       'CONTINUOS_MODERATE', 'INTERMITTENT_MODERATE', 'CONTINUOS_VIGOROUS',\n",
      "       'INTERMITTENT_VIGOROUS', 'NON_WEAR'],\n",
      "      dtype='object')\n",
      "         date  stepCount  stepsDistance  calories  sleepQuality sleepDuration  \\\n",
      "0  2024-01-26      14080    9755.738281      2547      0.872167      09:11:30   \n",
      "1  2025-06-21      25568   21580.402344      3181      0.000000      00:00:00   \n",
      "2  2021-09-16      11060    6132.661621      2651      0.885745      07:39:30   \n",
      "3  2024-07-15      27691   21221.250000      3294      0.850627      07:18:30   \n",
      "4  2021-11-05        436     196.745331      1439      0.835588      08:00:30   \n",
      "\n",
      "   dailyMetMinutes     SLEEP SEDENTARY     LIGHT CONTINUOS_MODERATE  \\\n",
      "0           367.00  07:46:30  07:02:30  04:24:30           01:10:00   \n",
      "1           915.30  01:58:30  02:49:00  04:30:30           00:58:00   \n",
      "2           271.45  07:15:30  06:27:00  08:10:30           01:57:30   \n",
      "3           776.70  07:50:30  07:42:00  04:55:30           01:19:30   \n",
      "4            10.50  05:41:00  00:13:00  00:31:30           00:01:30   \n",
      "\n",
      "  INTERMITTENT_MODERATE CONTINUOS_VIGOROUS INTERMITTENT_VIGOROUS  NON_WEAR  \n",
      "0              00:00:00           00:42:00              00:00:00  02:54:30  \n",
      "1              00:00:00           02:37:30              00:00:00  11:06:30  \n",
      "2              00:00:00           00:01:00              00:00:00  00:08:30  \n",
      "3              00:00:00           02:12:30              00:00:00  00:00:00  \n",
      "4              00:00:00           00:00:00              00:00:00  17:33:00   \n",
      "\n"
     ]
    }
   ],
   "source": [
    "print(df_activity.columns)\n",
    "print(df_activity.head(),\"\\n\")"
   ]
  },
  {
   "cell_type": "code",
   "execution_count": 27,
   "metadata": {},
   "outputs": [
    {
     "name": "stdout",
     "output_type": "stream",
     "text": [
      "Index(['date', 'startTime', 'stopTime', 'distance', 'duration', 'kiloCalories',\n",
      "       'maximumHeartRate', 'averageHeartRate'],\n",
      "      dtype='object')\n",
      "         date startTime  stopTime      distance duration  kiloCalories  \\\n",
      "0  2017-01-01  14:53:26  15:58:59  10503.000000      NaT         587.0   \n",
      "1  2024-01-01  20:14:26  20:44:02           NaN      NaT         206.0   \n",
      "2  2023-01-01  17:40:45  19:12:37           NaN      NaT         732.0   \n",
      "3  2023-01-01  08:14:07  11:13:54  72330.203125      NaT        1680.0   \n",
      "4  2023-01-01  17:46:14  18:07:53    770.400024      NaT         143.0   \n",
      "\n",
      "   maximumHeartRate  averageHeartRate  \n",
      "0               NaN               NaN  \n",
      "1             137.0             128.0  \n",
      "2             153.0             136.0  \n",
      "3             179.0             160.0  \n",
      "4             161.0             142.0  \n"
     ]
    }
   ],
   "source": [
    "print(df_training.columns)\n",
    "print(df_training.head())\n"
   ]
  },
  {
   "cell_type": "code",
   "execution_count": null,
   "metadata": {},
   "outputs": [
    {
     "name": "stdout",
     "output_type": "stream",
     "text": [
      "Index(['date', 'time', 'heartRate'], dtype='object')\n",
      "         date      time  heartRate\n",
      "0  2021-10-07  16:32:56         89\n",
      "1  2021-10-07  16:32:57         90\n",
      "2  2021-10-07  16:32:58         91\n",
      "3  2021-10-07  16:32:59         92\n",
      "4  2021-10-07  16:33:00         92\n"
     ]
    }
   ],
   "source": [
    "print(df_247.columns)\n",
    "print(df_247.head())"
   ]
  },
  {
   "cell_type": "code",
   "execution_count": 62,
   "metadata": {},
   "outputs": [
    {
     "name": "stdout",
     "output_type": "stream",
     "text": [
      "197.0\n",
      "187\n"
     ]
    }
   ],
   "source": [
    "print(df_training['maximumHeartRate'].max())\n",
    "print(df_247['heartRate'].max())"
   ]
  }
 ],
 "metadata": {
  "language_info": {
   "name": "python"
  }
 },
 "nbformat": 4,
 "nbformat_minor": 2
}
